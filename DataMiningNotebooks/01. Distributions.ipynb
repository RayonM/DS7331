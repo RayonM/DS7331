{
 "cells": [
  {
   "cell_type": "markdown",
   "metadata": {},
   "source": [
    "### Data Distributions\n",
    "\n",
    "Created by Raghu Srinivas, contact rsrinivas@smu.edu for any errors or questions.\n",
    "\n",
    "\n",
    "\n",
    "In this notebook, we will cover different types of data distributions in the context of an example. We will discuss the following distribution types with examples. \n",
    "\n",
    "1. Normal Distributions\n",
    "2. Poisson Distributions"
   ]
  },
  {
   "cell_type": "code",
   "execution_count": 9,
   "metadata": {},
   "outputs": [],
   "source": [
    "from scipy.stats import poisson,expon,norm\n",
    "import pandas as pd\n",
    "from numpy import random\n",
    "import matplotlib.pyplot as plt\n",
    "import seaborn as sns\n"
   ]
  },
  {
   "cell_type": "markdown",
   "metadata": {},
   "source": [
    "### Dataset \n",
    "\n",
    "For this exercise, we will use a psuedo-realistic EcommerceDB dataset, designed as a part of SMU DS 7330(Database Management).\n",
    "The data consists of 2 files \n",
    "\n",
    "1. Ecommerce_orders.csv : which contains a list of orders with their corresponding details (aka OrderNumber,CustomerID,OrderTotals and OrderDate)\n",
    "2. OrdersEachWeek.csv : which contains the number of days between each consective orders for each customer\n",
    "\n",
    "\n",
    "We will attempt to answer the following questions from the data as we learn about the distributions. \n",
    "\n",
    "Question 1: Given the orders, what is the probability of an Order Having total < \\$5000\n",
    "\n",
    "Question 2: Given the average orders placed by a customer each week, what is the probability that the customer places X orders this week? "
   ]
  },
  {
   "cell_type": "markdown",
   "metadata": {},
   "source": [
    "Lets start with loading the 2 datasets using Pandas"
   ]
  },
  {
   "cell_type": "code",
   "execution_count": 10,
   "metadata": {},
   "outputs": [
    {
     "name": "stdout",
     "output_type": "stream",
     "text": [
      "Shape of the dataframe  (1000, 4)\n",
      "\n",
      "\n",
      "Some sample records from the dataframe : \n"
     ]
    },
    {
     "data": {
      "text/html": [
       "<div>\n",
       "<style scoped>\n",
       "    .dataframe tbody tr th:only-of-type {\n",
       "        vertical-align: middle;\n",
       "    }\n",
       "\n",
       "    .dataframe tbody tr th {\n",
       "        vertical-align: top;\n",
       "    }\n",
       "\n",
       "    .dataframe thead th {\n",
       "        text-align: right;\n",
       "    }\n",
       "</style>\n",
       "<table border=\"1\" class=\"dataframe\">\n",
       "  <thead>\n",
       "    <tr style=\"text-align: right;\">\n",
       "      <th></th>\n",
       "      <th>OrderNumber</th>\n",
       "      <th>CustomerID</th>\n",
       "      <th>OrderTotal</th>\n",
       "      <th>OrderDate</th>\n",
       "    </tr>\n",
       "  </thead>\n",
       "  <tbody>\n",
       "    <tr>\n",
       "      <th>0</th>\n",
       "      <td>1</td>\n",
       "      <td>96</td>\n",
       "      <td>2011</td>\n",
       "      <td>12/22/17</td>\n",
       "    </tr>\n",
       "    <tr>\n",
       "      <th>1</th>\n",
       "      <td>2</td>\n",
       "      <td>44</td>\n",
       "      <td>9602</td>\n",
       "      <td>02/04/17</td>\n",
       "    </tr>\n",
       "  </tbody>\n",
       "</table>\n",
       "</div>"
      ],
      "text/plain": [
       "   OrderNumber  CustomerID  OrderTotal OrderDate\n",
       "0            1          96        2011  12/22/17\n",
       "1            2          44        9602  02/04/17"
      ]
     },
     "execution_count": 10,
     "metadata": {},
     "output_type": "execute_result"
    }
   ],
   "source": [
    "dfOrders = pd.read_csv(\"data/Ecommerce_orders.csv\",delimiter=\",\")\n",
    "\n",
    "#Drop the NaNs from the dataset\n",
    "dfOrders.dropna(inplace=True)\n",
    "\n",
    "print(\"Shape of the dataframe \",dfOrders.shape)\n",
    "\n",
    "print(\"\\n\\nSome sample records from the dataframe : \")\n",
    "dfOrders.head(2)\n"
   ]
  },
  {
   "cell_type": "markdown",
   "metadata": {},
   "source": [
    "OKay, now we analyzee the OrderTotal column. Let us first describe the columns"
   ]
  },
  {
   "cell_type": "code",
   "execution_count": 11,
   "metadata": {},
   "outputs": [
    {
     "data": {
      "text/plain": [
       "count     1000.000000\n",
       "mean      5899.279000\n",
       "std       3341.391232\n",
       "min        210.000000\n",
       "25%       3145.000000\n",
       "50%       5957.000000\n",
       "75%       8183.250000\n",
       "max      16456.000000\n",
       "Name: OrderTotal, dtype: float64"
      ]
     },
     "execution_count": 11,
     "metadata": {},
     "output_type": "execute_result"
    }
   ],
   "source": [
    "dfOrders.OrderTotal.describe()"
   ]
  },
  {
   "cell_type": "markdown",
   "metadata": {},
   "source": [
    "The column is continous, with values ranging from 210 to 16k.Lets check if this follows a normal distribution by plotting a histogram."
   ]
  },
  {
   "cell_type": "code",
   "execution_count": 12,
   "metadata": {},
   "outputs": [
    {
     "data": {
      "image/png": "[encoded data removed]",
      "text/plain": [
       "<Figure size 432x288 with 1 Axes>"
      ]
     },
     "metadata": {
      "needs_background": "light"
     },
     "output_type": "display_data"
    }
   ],
   "source": [
    "fig, ax = plt.subplots()\n",
    "sns.distplot(dfOrders['OrderTotal'], kde=True)\n",
    "plt.show()"
   ]
  },
  {
   "cell_type": "markdown",
   "metadata": {},
   "source": [
    "Real data is often messy and does not exactly follow normal distribution. But we will take refuge under central limit theorm, and calculate the sample means to establish normality. We are able to, because the data is continous and the sample size is large."
   ]
  },
  {
   "cell_type": "code",
   "execution_count": 13,
   "metadata": {},
   "outputs": [
    {
     "data": {
      "image/png": "[encoded data removed]",
      "text/plain": [
       "<Figure size 432x288 with 1 Axes>"
      ]
     },
     "metadata": {
      "needs_background": "light"
     },
     "output_type": "display_data"
    }
   ],
   "source": [
    "## Calculate sample means\n",
    "sample_means = list()\n",
    "for i in range(1000):\n",
    "    sample_means.append(dfOrders.sample(400).OrderTotal.mean())\n",
    "\n",
    "\n",
    "fig, ax = plt.subplots()\n",
    "sns.distplot(sample_means, kde=True)\n",
    "plt.show()"
   ]
  },
  {
   "cell_type": "markdown",
   "metadata": {},
   "source": [
    "The plot, constructed from sample means resembles a normal distribution. We will proceed with that assumption and generate a normal distribution from the parameters of the OrderTotal(mean=5899.27, stddev = 3341.39) "
   ]
  },
  {
   "cell_type": "code",
   "execution_count": 14,
   "metadata": {},
   "outputs": [
    {
     "name": "stdout",
     "output_type": "stream",
     "text": [
      "Approximated Normal Distribution derived from OrderTotal\n"
     ]
    },
    {
     "data": {
      "text/plain": [
       "[<matplotlib.lines.Line2D at 0x121d0ff50>]"
      ]
     },
     "execution_count": 14,
     "metadata": {},
     "output_type": "execute_result"
    },
    {
     "data": {
      "image/png": "[encoded data removed]",
      "text/plain": [
       "<Figure size 432x288 with 1 Axes>"
      ]
     },
     "metadata": {
      "needs_background": "light"
     },
     "output_type": "display_data"
    }
   ],
   "source": [
    "## We use scipy.norm to generate normal distribution from the OrderTotals & visually inspect it. \n",
    "\n",
    "approx_norm_dist = norm(loc=dfOrders.OrderTotal.mean(),scale=dfOrders.OrderTotal.std())\n",
    "\n",
    "x_range = [value for value in range(-dfOrders.OrderTotal.max(),dfOrders.OrderTotal.max(),100)]\n",
    "y_probs = [approx_norm_dist.pdf(value) for value in x_range] \n",
    "\n",
    "print(\"Approximated Normal Distribution derived from OrderTotal\")\n",
    "plt.plot(x_range,y_probs)"
   ]
  },
  {
   "cell_type": "markdown",
   "metadata": {},
   "source": [
    "The above plot is an approximate normal distribution derived from the OrderTotals column. This plot is called the probability distribution and it is defined by the formula :\n",
    "\n",
    "![image info](data/pdf_norm.png)\n",
    "\n",
    "\n",
    "We can use the above formula to determine the probability of ordertotal being a certain value.\n",
    "\n",
    "E.g. Prob of OrderTotal = 6000 given Mu=5800, Std=3341 ==> F(6000)"
   ]
  },
  {
   "cell_type": "markdown",
   "metadata": {},
   "source": [
    "We now run some estimations on the approximate normal distribution and compare with the original data. "
   ]
  },
  {
   "cell_type": "markdown",
   "metadata": {},
   "source": [
    "##### Question : What is the probability that the order total is less than 5000"
   ]
  },
  {
   "cell_type": "markdown",
   "metadata": {},
   "source": [
    "We will first verify this using the original data. For this, we calc the propotion of the totals less than 5000"
   ]
  },
  {
   "cell_type": "code",
   "execution_count": 15,
   "metadata": {},
   "outputs": [
    {
     "name": "stdout",
     "output_type": "stream",
     "text": [
      "Results from analyzing the original data:\n",
      "Percentage of Orders with total less than 5000 : 41.70%\n"
     ]
    }
   ],
   "source": [
    "Num_total_less_3500 = dfOrders[dfOrders.OrderTotal<=5000].shape[0]\n",
    "Total_Num_Records = dfOrders.shape[0]\n",
    "\n",
    "print(\"Results from analyzing the original data:\")\n",
    "print(\"Percentage of Orders with total less than 5000 : %.2f%%\"%(Num_total_less_3500*100/Total_Num_Records))"
   ]
  },
  {
   "cell_type": "markdown",
   "metadata": {},
   "source": [
    "We will now use our approximate normal distribution to find the prob of the ordertoal less than 5000.\n",
    "We will use the CDF (Cumulative Distribution Function to calc this)"
   ]
  },
  {
   "cell_type": "code",
   "execution_count": 16,
   "metadata": {},
   "outputs": [
    {
     "name": "stdout",
     "output_type": "stream",
     "text": [
      "Results derived from the prob distribution constructed from the data:\n",
      "Percentage of Orders with total less than 5000 : 39.39%\n"
     ]
    }
   ],
   "source": [
    "print(\"Results derived from the prob distribution constructed from the data:\")\n",
    "print(\"Percentage of Orders with total less than 5000 : %.2f%%\"%(approx_norm_dist.cdf(5000)*100))"
   ]
  },
  {
   "cell_type": "markdown",
   "metadata": {},
   "source": [
    "###### Note :  \n",
    "\n",
    "We used approx_norm_dist.cdf (Cumulative Distribution Function) above to calc Prob of OrderTotal less than 5000. \n",
    "We will use approx_norm_dist.pdf (Prob Distribution Function) if we need to calc the Prob of OrderTotal exactly = 5000"
   ]
  },
  {
   "cell_type": "markdown",
   "metadata": {},
   "source": [
    "In summary, we notice that the results are not exact but in the ballpark. Typically this deviation is acceptable and usually deemed as statistically insignificant. The prob distribution of the data is a very powerful techique that is used in various higher order applications. "
   ]
  },
  {
   "cell_type": "markdown",
   "metadata": {},
   "source": [
    "##### Question : Can we build an estimation of the number of order in a week for the customers. Specifically, given the historical order patterns, what is the probability that Customer 1 will place X order this week?"
   ]
  },
  {
   "cell_type": "markdown",
   "metadata": {},
   "source": [
    "For this question, we will load the data that contains the number of orders each week for CustomerID = 1"
   ]
  },
  {
   "cell_type": "code",
   "execution_count": 17,
   "metadata": {},
   "outputs": [
    {
     "name": "stdout",
     "output_type": "stream",
     "text": [
      "Avg Orders per week for Cust 1 : 4 Orders\n"
     ]
    }
   ],
   "source": [
    "dfDays = pd.read_csv(\"data/OrdersEachWeek.csv\")\n",
    "dfDays.dropna(inplace=True)\n",
    "dfDays = dfDays[dfDays.CustID==1]\n",
    "print(\"Avg Orders per week for Cust 1 : %d Orders\"%dfDays.OrdersPerWeek.mean())"
   ]
  },
  {
   "cell_type": "markdown",
   "metadata": {},
   "source": [
    "We will first plot the data and verify its distribution. "
   ]
  },
  {
   "cell_type": "code",
   "execution_count": 18,
   "metadata": {},
   "outputs": [
    {
     "data": {
      "image/png": "[encoded data removed]",
      "text/plain": [
       "<Figure size 432x288 with 1 Axes>"
      ]
     },
     "metadata": {
      "needs_background": "light"
     },
     "output_type": "display_data"
    }
   ],
   "source": [
    "fig, ax = plt.subplots()\n",
    "sns.distplot(dfDays.OrdersPerWeek, kde=True)\n",
    "plt.show()"
   ]
  },
  {
   "cell_type": "markdown",
   "metadata": {},
   "source": [
    "We notice that the data is NOT continous, infact the num of orders/week are descrete rather than continous. Can we assume this to be a continous normal distribution?\n",
    "\n",
    "Alternately, we can use the Poisson Distribution. Poisson distributions are used when the variable of interest is a discrete count variable. This is used when we count the variable of interest for a given internal. In our case, we are counting the number of orders and the interval being the weeks. \n",
    "\n",
    "\n",
    "We use scipy.poisson for modeling the poisson distribution.  The Probability Mass Function of a poisson distribution is given by the equation : \n",
    "\n",
    "![image info](data/pmf_poisson.png)\n",
    "\n",
    "\n",
    "where $\\lambda$ indicates the average number of events in the given time interval. "
   ]
  },
  {
   "cell_type": "code",
   "execution_count": 19,
   "metadata": {},
   "outputs": [
    {
     "name": "stdout",
     "output_type": "stream",
     "text": [
      "The Average Num of Orders per week from historical data: 4 Orders\n"
     ]
    }
   ],
   "source": [
    "approx_poisson_days = poisson(dfDays.OrdersPerWeek.mean())\n",
    "\n",
    "print(\"The Average Num of Orders per week from historical data: %d Orders\"%dfDays.OrdersPerWeek.mean())"
   ]
  },
  {
   "cell_type": "code",
   "execution_count": 20,
   "metadata": {},
   "outputs": [],
   "source": [
    "##### Question : What is the probability the customer places an 6 orders this week?"
   ]
  },
  {
   "cell_type": "markdown",
   "metadata": {},
   "source": [
    "Can we derive this from the original data?"
   ]
  },
  {
   "cell_type": "markdown",
   "metadata": {},
   "source": [
    "If we use the data, we see that the customer has NOT placed an order on Day 6, but placed before or after 6 days."
   ]
  },
  {
   "cell_type": "code",
   "execution_count": 21,
   "metadata": {},
   "outputs": [
    {
     "name": "stdout",
     "output_type": "stream",
     "text": [
      "Num of times customer placed < 6 orders  : 68\n",
      "Num of times customer placed exactly 6 Orders: 0 \n",
      "Num of times customer placed > 6 Orders : 21 \n"
     ]
    }
   ],
   "source": [
    "print(\"Num of times customer placed < 6 orders  : %d\"%dfDays[dfDays.OrdersPerWeek<6].shape[0])\n",
    "print(\"Num of times customer placed exactly 6 Orders: %d \"%dfDays[dfDays.OrdersPerWeek==6].shape[0])\n",
    "print(\"Num of times customer placed > 6 Orders : %d \"%dfDays[dfDays.OrdersPerWeek>6].shape[0])"
   ]
  },
  {
   "cell_type": "markdown",
   "metadata": {},
   "source": [
    "However, if we model the data as a poisson distribution, we can estimate the probability of the customer placing 6 Orders"
   ]
  },
  {
   "cell_type": "code",
   "execution_count": 22,
   "metadata": {},
   "outputs": [
    {
     "name": "stdout",
     "output_type": "stream",
     "text": [
      "Probability that the customer will place exactly 6 Orders: 0.10 \n"
     ]
    }
   ],
   "source": [
    "\n",
    "print(\"Probability that the customer will place exactly 6 Orders: %.2f \"%(approx_poisson_days.pmf(6)))"
   ]
  },
  {
   "cell_type": "markdown",
   "metadata": {},
   "source": [
    "We use the Cumulative Distribution for the probability that the customer will place more than 4 orders this week"
   ]
  },
  {
   "cell_type": "code",
   "execution_count": 23,
   "metadata": {},
   "outputs": [
    {
     "name": "stdout",
     "output_type": "stream",
     "text": [
      "Probability that the customer will place > 4 Orders this week : 0.37 \n"
     ]
    }
   ],
   "source": [
    "print(\"Probability that the customer will place > 4 Orders this week : %.2f \"%(1 -approx_poisson_days.cdf(4)))"
   ]
  },
  {
   "cell_type": "code",
   "execution_count": null,
   "metadata": {},
   "outputs": [],
   "source": []
  }
 ],
 "metadata": {
  "kernelspec": {
   "display_name": "Python 3",
   "language": "python",
   "name": "python3"
  },
  "language_info": {
   "codemirror_mode": {
    "name": "ipython",
    "version": 3
   },
   "file_extension": ".py",
   "mimetype": "text/x-python",
   "name": "python",
   "nbconvert_exporter": "python",
   "pygments_lexer": "ipython3",
   "version": "3.7.6"
  }
 },
 "nbformat": 4,
 "nbformat_minor": 2
}
